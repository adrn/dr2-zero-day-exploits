{
 "cells": [
  {
   "cell_type": "code",
   "execution_count": null,
   "metadata": {},
   "outputs": [],
   "source": [
    "import glob\n",
    "import astropy.coordinates as coord\n",
    "from astropy.io import fits, ascii\n",
    "from astropy.table import Table, vstack\n",
    "import astropy.units as u\n",
    "import numpy as np\n",
    "import matplotlib as mpl\n",
    "import matplotlib.pyplot as plt\n",
    "%matplotlib inline\n",
    "\n",
    "from pyia import GaiaData\n",
    "import gala.coordinates as gc\n",
    "from scipy.ndimage import gaussian_filter\n",
    "from scipy.stats import binned_statistic_2d\n",
    "from gala.mpl_style import hesperia, laguna, center_emph, center_deemph\n",
    "from tqdm import tqdm\n",
    "import dustmaps\n",
    "from dustmaps.sfd import SFDQuery\n",
    "\n",
    "sfd = SFDQuery()"
   ]
  },
  {
   "cell_type": "code",
   "execution_count": null,
   "metadata": {},
   "outputs": [],
   "source": [
    "L_lim = [-40, 40] * u.deg\n",
    "B_lim = [-30, 30] * u.deg"
   ]
  },
  {
   "cell_type": "code",
   "execution_count": null,
   "metadata": {},
   "outputs": [],
   "source": [
    "import scipy.stats\n",
    "\n",
    "def get_ext(G, bp, rp, ebv, maxnit=10):\n",
    "    \"\"\" Compute the Gaia extinctions assuming relations from Babusieux\n",
    "    Arguments: G, bp, rp, E(B-V)\n",
    "    maxnit -- number of iterations\n",
    "    Returns extinction in G,bp, rp\n",
    "    Author: Sergey Koposov skoposov@cmu.edu\n",
    "    \"\"\"\n",
    "    c1, c2, c3, c4, c5, c6, c7 = [0.9761, -0.1704,\n",
    "                                  0.0086, 0.0011, -0.0438, 0.0013, 0.0099]\n",
    "    d1, d2, d3, d4, d5, d6, d7 = [\n",
    "        1.1517, -0.0871, -0.0333, 0.0173, -0.0230, 0.0006, 0.0043]\n",
    "    e1, e2, e3, e4, e5, e6, e7 = [\n",
    "        0.6104, -0.0170, -0.0026, -0.0017, -0.0078, 0.00005, 0.0006]\n",
    "    A0 = 3.1*ebv\n",
    "    P1 = np.poly1d([c1, c2, c3, c4][::-1])\n",
    "\n",
    "    def F1(bprp): return np.poly1d(\n",
    "        [c1, c2, c3, c4][::-1])(bprp)+c5*A0+c6*A0**2+c7*bprp*A0\n",
    "\n",
    "    def F2(bprp): return np.poly1d(\n",
    "        [d1, d2, d3, d4][::-1])(bprp)+d5*A0+d6*A0**2+d7*bprp*A0\n",
    "\n",
    "    def F3(bprp): return np.poly1d(\n",
    "        [e1, e2, e3, e4][::-1])(bprp)+e5*A0+e6*A0**2+e7*bprp*A0\n",
    "    xind = np.isfinite(bp+rp+G)\n",
    "    curbp = bp-rp\n",
    "    for i in range(maxnit):\n",
    "        AG = F1(curbp)*A0\n",
    "        Abp = F2(curbp)*A0\n",
    "        Arp = F3(curbp)*A0\n",
    "        curbp1 = bp-rp-Abp+Arp\n",
    "        delta = np.abs(curbp1-curbp)[xind]\n",
    "        print(scipy.stats.scoreatpercentile(delta, 99))\n",
    "        curbp = curbp1\n",
    "    AG = F1(curbp)*A0\n",
    "    Abp = F2(curbp)*A0\n",
    "    Arp = F3(curbp)*A0\n",
    "    return AG, Abp, Arp"
   ]
  },
  {
   "cell_type": "code",
   "execution_count": null,
   "metadata": {},
   "outputs": [],
   "source": [
    "def reflex(c):\n",
    "    c = coord.SkyCoord(c)\n",
    "    # Correct for reflex motion\n",
    "    v_sun = coord.Galactocentric.galcen_v_sun\n",
    "    observed = c.transform_to(coord.Galactic)\n",
    "    rep = observed.cartesian.without_differentials()\n",
    "    rep = rep.with_differentials(observed.cartesian.differentials['s'] + v_sun)\n",
    "    return coord.Galactic(rep).transform_to(c.frame)"
   ]
  },
  {
   "cell_type": "markdown",
   "metadata": {},
   "source": [
    "BP-RP and G mag cuts to get ~A/B stars @ 30 kpc"
   ]
  },
  {
   "cell_type": "code",
   "execution_count": null,
   "metadata": {},
   "outputs": [],
   "source": [
    "g = GaiaData('/Users/adrian/data/GaiaDR2/blue_distant.fits')\n",
    "g = g[g.parallax < 0.5*u.mas]\n",
    "len(g)"
   ]
  },
  {
   "cell_type": "code",
   "execution_count": null,
   "metadata": {},
   "outputs": [],
   "source": [
    "c = coord.SkyCoord(ra=g.ra, dec=g.dec,\n",
    "                   distance=np.full(len(g), 45)*u.kpc,\n",
    "                   pm_ra_cosdec=g.pmra,\n",
    "                   pm_dec=g.pmdec,\n",
    "                   radial_velocity=np.zeros(len(g))*u.km/u.s)"
   ]
  },
  {
   "cell_type": "code",
   "execution_count": null,
   "metadata": {},
   "outputs": [],
   "source": [
    "EBV = sfd(c)"
   ]
  },
  {
   "cell_type": "code",
   "execution_count": null,
   "metadata": {},
   "outputs": [],
   "source": [
    "G = g.phot_g_mean_mag.value\n",
    "bp = g.phot_bp_mean_mag.value\n",
    "rp = g.phot_rp_mean_mag.value\n",
    "A_G, A_BP, A_RP = get_ext(G, bp, rp, EBV)"
   ]
  },
  {
   "cell_type": "code",
   "execution_count": null,
   "metadata": {},
   "outputs": [],
   "source": [
    "ext_mask = np.isfinite(A_G) & np.isfinite(A_BP) & np.isfinite(A_RP) & (A_G < 4)\n",
    "ext_mask.sum()"
   ]
  },
  {
   "cell_type": "code",
   "execution_count": null,
   "metadata": {},
   "outputs": [],
   "source": [
    "mag_c = c.transform_to(gc.MagellanicStream)\n",
    "mag_c = reflex(mag_c)"
   ]
  },
  {
   "cell_type": "code",
   "execution_count": null,
   "metadata": {},
   "outputs": [],
   "source": [
    "L = mag_c.L.wrap_at(180*u.deg)\n",
    "B = mag_c.B\n",
    "mag_mask = ((L > L_lim[0]) & (L < L_lim[1]) &\n",
    "            (B > B_lim[0]) & (B < B_lim[1]))\n",
    "\n",
    "# exclude center...\n",
    "lmc_mask = (np.sqrt(L**2 + (B-4*u.deg)**2) < 7*u.deg) & (np.sqrt(L**2 + (B-4*u.deg)**2) > 2*u.deg)\n",
    "smc_mask = np.sqrt((L+15*u.deg)**2 + (B+11*u.deg)**2) < 3.5*u.deg\n",
    "# bridge_mask = np.sqrt((L+10*u.deg)**2 + (B+6*u.deg)**2) < 4*u.deg"
   ]
  },
  {
   "cell_type": "code",
   "execution_count": null,
   "metadata": {},
   "outputs": [],
   "source": [
    "fig, ax = plt.subplots(1, 1, figsize=(8, 6))\n",
    "\n",
    "ax.plot(mag_c.L.wrap_at(180*u.deg).degree[ext_mask & mag_mask], \n",
    "        mag_c.B.degree[ext_mask & mag_mask], \n",
    "        linestyle='none', marker='.', alpha=0.1)\n",
    "\n",
    "ax.set_xlim(L_lim[1].value, L_lim[0].value)\n",
    "ax.set_ylim(B_lim[0].value, B_lim[1].value)\n",
    "ax.set_aspect('equal')"
   ]
  },
  {
   "cell_type": "code",
   "execution_count": null,
   "metadata": {},
   "outputs": [],
   "source": [
    "bprp0 = (g.phot_bp_mean_mag - g.phot_rp_mean_mag) - (A_BP - A_RP)*u.mag\n",
    "G0 = g.phot_g_mean_mag - A_G*u.mag"
   ]
  },
  {
   "cell_type": "code",
   "execution_count": null,
   "metadata": {},
   "outputs": [],
   "source": [
    "isos = dict()\n",
    "for fn in glob.glob('/Users/adrian/Downloads/*Myr*.cmd'):\n",
    "    iso = Table.read(fn, \n",
    "                     format='ascii.commented_header', header_start=12)\n",
    "    phasecut = (iso['phase']>=0) & (iso['phase']<3)\n",
    "    iso = iso[phasecut]\n",
    "    # isos[iso['[Fe/H]_init'][0]] = iso\n",
    "    isos[iso['isochrone_age_yr'][0]] = iso"
   ]
  },
  {
   "cell_type": "code",
   "execution_count": null,
   "metadata": {},
   "outputs": [],
   "source": [
    "fig, ax = plt.subplots(1, 1, figsize=(6, 6))\n",
    "\n",
    "ax.plot(bprp0[smc_mask], G0[smc_mask], marker=',', linestyle='none', alpha=0.2)\n",
    "\n",
    "for feh, iso in isos.items():\n",
    "    ax.plot(iso['Gaia_BP_DR2Rev']-iso['Gaia_RP_DR2Rev'],\n",
    "            iso['Gaia_G_DR2Rev'] + coord.Distance(50*u.kpc).distmod.value)\n",
    "\n",
    "ax.set_xlim(-2, 0.5)\n",
    "ax.set_ylim(20, 12)"
   ]
  },
  {
   "cell_type": "code",
   "execution_count": null,
   "metadata": {},
   "outputs": [],
   "source": [
    "# more_mask = (G0 > 16.*u.mag) & (bprp0 > -0.5*u.mag)\n",
    "# more_mask = (bprp0 < -0*u.mag) & (bprp0 > -0.5*u.mag)\n",
    "more_mask = (bprp0 < 0.15*u.mag) & (bprp0 > -0.5*u.mag) & (G0 > (2.5/0.5*bprp0 + 17.5*u.mag))\n",
    "\n",
    "fig, ax = plt.subplots(1, 1, figsize=(6, 6))\n",
    "\n",
    "ax.plot(bprp0, G0, marker=',', linestyle='none', alpha=0.2)\n",
    "ax.plot(bprp0[more_mask], G0[more_mask], marker=',', linestyle='none', alpha=1)\n",
    "\n",
    "ax.set_xlim(-2, 0.5)\n",
    "ax.set_ylim(12, 20)"
   ]
  },
  {
   "cell_type": "code",
   "execution_count": null,
   "metadata": {},
   "outputs": [],
   "source": [
    "all_mask = mag_mask & ext_mask & more_mask #& np.logical_not(lmc_mask) & np.logical_not(smc_mask)\n",
    "full_lmc_mask = mag_mask & ext_mask & more_mask & lmc_mask\n",
    "full_smc_mask = mag_mask & ext_mask & more_mask & smc_mask\n",
    "all_mask.sum(), full_lmc_mask.sum(), full_smc_mask.sum()"
   ]
  },
  {
   "cell_type": "code",
   "execution_count": null,
   "metadata": {},
   "outputs": [],
   "source": [
    "plt.hist(mag_c[full_lmc_mask].pm_L_cosB, bins=np.linspace(-5, 5, 128));\n",
    "plt.hist(mag_c[full_lmc_mask].pm_B, bins=np.linspace(-5, 5, 128));"
   ]
  },
  {
   "cell_type": "code",
   "execution_count": null,
   "metadata": {},
   "outputs": [],
   "source": [
    "med_LMC_L = np.median(mag_c[full_lmc_mask].L.wrap_at(180*u.deg))\n",
    "med_LMC_B = np.median(mag_c[full_lmc_mask].B)\n",
    "med_LMC_pmL = np.median(mag_c[full_lmc_mask].pm_L_cosB)\n",
    "med_LMC_pmB = np.median(mag_c[full_lmc_mask].pm_B)\n",
    "\n",
    "med_SMC_pmL = np.median(mag_c[full_smc_mask].pm_L_cosB)\n",
    "med_SMC_pmB = np.median(mag_c[full_smc_mask].pm_B)"
   ]
  },
  {
   "cell_type": "code",
   "execution_count": null,
   "metadata": {},
   "outputs": [],
   "source": [
    "stat_muL = binned_statistic_2d(mag_c.L.wrap_at(180*u.deg).degree[all_mask],\n",
    "                               mag_c.B.degree[all_mask],\n",
    "                               mag_c.pm_L_cosB[all_mask] - med_LMC_pmL,\n",
    "                               bins=(np.arange(L_lim[0].value, L_lim[1].value+0.1, 0.75),\n",
    "                                     np.arange(B_lim[0].value, B_lim[1].value+0.1, 0.75)),\n",
    "                               statistic=np.nanmean)"
   ]
  },
  {
   "cell_type": "code",
   "execution_count": null,
   "metadata": {},
   "outputs": [],
   "source": [
    "derp = stat_muL.statistic.ravel()\n",
    "plt.hist(derp[np.isfinite(derp)], bins=np.linspace(-2, 2, 128));"
   ]
  },
  {
   "cell_type": "code",
   "execution_count": null,
   "metadata": {},
   "outputs": [],
   "source": [
    "from astropy.convolution import Gaussian2DKernel, convolve\n",
    "gauss = Gaussian2DKernel(0.5)"
   ]
  },
  {
   "cell_type": "code",
   "execution_count": null,
   "metadata": {},
   "outputs": [],
   "source": [
    "fig, ax = plt.subplots(1, 1, figsize=(15, 7))\n",
    "\n",
    "H = stat_muL.statistic.T\n",
    "# H = convolve(H, gauss)\n",
    "cc = ax.pcolormesh(stat_muL.x_edge, stat_muL.y_edge, H,\n",
    "                   vmin=-1.25, vmax=0.5, cmap='magma')\n",
    "cb = fig.colorbar(cc)\n",
    "cb.set_label(r'${\\rm mean}(\\mu_L \\cos B)$')\n",
    "\n",
    "ax.set_xlim(L_lim[1].value, L_lim[0].value)\n",
    "ax.set_ylim(B_lim[0].value, B_lim[1].value)\n",
    "ax.set_aspect('equal')\n",
    "\n",
    "ax.set_xlabel(r'$L_{\\rm MS}$ [deg]')\n",
    "ax.set_ylabel(r'$B_{\\rm MS}$ [deg]')\n",
    "\n",
    "fig.tight_layout()"
   ]
  },
  {
   "cell_type": "code",
   "execution_count": null,
   "metadata": {},
   "outputs": [],
   "source": [
    "pm_bins = np.arange(-5, 5+0.1, 0.1)\n",
    "\n",
    "fg_pm, pm_x, pm_y = np.histogram2d(mag_c.pm_L_cosB[all_mask].value, \n",
    "                                   mag_c.pm_B[all_mask].value,\n",
    "                                   bins=(pm_bins, pm_bins))\n",
    "\n",
    "fig, ax = plt.subplots(1, 1, figsize=(5, 5))\n",
    "\n",
    "ax.pcolormesh(pm_x, pm_y, fg_pm.T)\n",
    "\n",
    "r = mpl.patches.Circle((med_LMC_pmL.value, med_LMC_pmB.value), radius=0.8, facecolor='none', edgecolor='k')\n",
    "ax.add_patch(r)\n",
    "\n",
    "r = mpl.patches.Circle((med_SMC_pmL.value, med_SMC_pmB.value), radius=0.6, facecolor='none', edgecolor='k')\n",
    "ax.add_patch(r)\n",
    "\n",
    "fig.tight_layout()"
   ]
  },
  {
   "cell_type": "code",
   "execution_count": null,
   "metadata": {},
   "outputs": [],
   "source": [
    "pm_mask = np.sqrt((mag_c.pm_L_cosB - med_LMC_pmL)**2 + \n",
    "                  (mag_c.pm_B - med_LMC_pmB)**2) < 0.8*u.mas/u.yr\n",
    "pm_mask |= np.sqrt((mag_c.pm_L_cosB - med_SMC_pmL)**2 + \n",
    "                   (mag_c.pm_B - med_SMC_pmB)**2) < 0.6*u.mas/u.yr"
   ]
  },
  {
   "cell_type": "code",
   "execution_count": null,
   "metadata": {},
   "outputs": [],
   "source": [
    "stat_muL = binned_statistic_2d(mag_c.L.wrap_at(180*u.deg).degree[all_mask & pm_mask],\n",
    "                               mag_c.B.degree[all_mask & pm_mask],\n",
    "                               mag_c.pm_L_cosB[all_mask & pm_mask] - med_LMC_pmL,\n",
    "                               bins=(np.arange(L_lim[0].value, L_lim[1].value+0.1, 0.5),\n",
    "                                     np.arange(B_lim[0].value, B_lim[1].value+0.1, 0.5)),\n",
    "                               statistic=np.nanmean)"
   ]
  },
  {
   "cell_type": "code",
   "execution_count": null,
   "metadata": {},
   "outputs": [],
   "source": [
    "stat_muB = binned_statistic_2d(mag_c.L.wrap_at(180*u.deg).degree[all_mask & pm_mask],\n",
    "                               mag_c.B.degree[all_mask & pm_mask],\n",
    "                               mag_c.pm_B[all_mask & pm_mask] - med_LMC_pmB,\n",
    "                               bins=(np.arange(L_lim[0].value, L_lim[1].value+0.1, 0.5),\n",
    "                                     np.arange(B_lim[0].value, B_lim[1].value+0.1, 0.5)),\n",
    "                               statistic=np.nanmean)"
   ]
  },
  {
   "cell_type": "code",
   "execution_count": null,
   "metadata": {},
   "outputs": [],
   "source": [
    "# derp = stat_muL.statistic.ravel()\n",
    "derp = stat_muB.statistic.ravel()\n",
    "plt.hist(derp[np.isfinite(derp)], bins=np.linspace(-1, 1, 64));"
   ]
  },
  {
   "cell_type": "code",
   "execution_count": null,
   "metadata": {},
   "outputs": [],
   "source": [
    "cmap = plt.get_cmap('center_deemph')\n",
    "cmap.set_bad('k',1.0)"
   ]
  },
  {
   "cell_type": "code",
   "execution_count": null,
   "metadata": {},
   "outputs": [],
   "source": [
    "fig, ax = plt.subplots(1, 1, figsize=(15, 7))\n",
    "\n",
    "# H = stat_muL.statistic.T\n",
    "H = stat_muB.statistic.T\n",
    "\n",
    "H = np.ma.array(H, mask=np.isnan(H)) \n",
    "\n",
    "# H = convolve(H, gauss)\n",
    "# cc = ax.pcolormesh(stat_muL.x_edge, stat_muL.y_edge, H,\n",
    "#                    vmin=-0.6, vmax=0.3, cmap='rainbow')\n",
    "cc = ax.pcolormesh(stat_muB.x_edge, stat_muB.y_edge, H,\n",
    "                   vmin=-0.35, vmax=0.35, cmap=cmap)\n",
    "cb = fig.colorbar(cc)\n",
    "cb.set_label(r'${\\rm mean}(\\mu_B)$')\n",
    "\n",
    "ax.set_xlim(30, -40)\n",
    "ax.set_ylim(-30, 30)\n",
    "ax.set_aspect('equal')\n",
    "\n",
    "ax.set_xlabel(r'$L_{\\rm MS}$ [deg]')\n",
    "ax.set_ylabel(r'$B_{\\rm MS}$ [deg]')\n",
    "\n",
    "fig.tight_layout()\n",
    "\n",
    "fig.set_facecolor('w')"
   ]
  },
  {
   "cell_type": "code",
   "execution_count": null,
   "metadata": {},
   "outputs": [],
   "source": [
    "dL = mag_c.L.wrap_at(180*u.deg)[all_mask & pm_mask] - med_LMC_L.wrap_at(180*u.deg)\n",
    "dB = mag_c.B[all_mask & pm_mask] - med_LMC_B\n",
    "dpmL = mag_c.pm_L_cosB[all_mask & pm_mask] - med_LMC_pmL\n",
    "dpmB = mag_c.pm_B[all_mask & pm_mask] - med_LMC_pmB"
   ]
  },
  {
   "cell_type": "code",
   "execution_count": null,
   "metadata": {},
   "outputs": [],
   "source": [
    "# TOTAL HACK:\n",
    "dist = 50 * u.kpc\n",
    "x = (dL * dist).to(u.kpc, u.dimensionless_angles())\n",
    "y = (dB * dist).to(u.kpc, u.dimensionless_angles())\n",
    "vx = (dpmL * dist).to(u.km/u.s, u.dimensionless_angles())\n",
    "vy = (dpmB * dist).to(u.km/u.s, u.dimensionless_angles())\n",
    "\n",
    "R = np.sqrt(x**2 + y**2)\n",
    "\n",
    "vR = (x*vx + y*vy) / R\n",
    "vphi = (x*vy - y*vx) / R"
   ]
  },
  {
   "cell_type": "code",
   "execution_count": null,
   "metadata": {},
   "outputs": [],
   "source": [
    "vv = vphi\n",
    "\n",
    "stat = binned_statistic_2d(mag_c.L.wrap_at(180*u.deg).degree[all_mask & pm_mask],\n",
    "                           mag_c.B.degree[all_mask & pm_mask],\n",
    "                           vv.value,\n",
    "                           bins=(np.arange(L_lim[0].value, L_lim[1].value+0.1, 1),\n",
    "                                 np.arange(B_lim[0].value, B_lim[1].value+0.1, 1)),\n",
    "                           statistic=np.nanmean)\n",
    "\n",
    "fig, ax = plt.subplots(1, 1, figsize=(15, 7))\n",
    "\n",
    "H = stat.statistic.T\n",
    "H = np.ma.array(H, mask=np.isnan(H)) \n",
    "\n",
    "# H = convolve(H, gauss)\n",
    "# cc = ax.pcolormesh(stat_muL.x_edge, stat_muL.y_edge, H,\n",
    "#                    vmin=-0.6, vmax=0.3, cmap='rainbow')\n",
    "cc = ax.pcolormesh(stat.x_edge, stat.y_edge, H,\n",
    "                   vmin=np.median(vv).value-30, vmax=np.median(vv).value+30, \n",
    "                   cmap=cmap)\n",
    "cb = fig.colorbar(cc)\n",
    "cb.set_label(r'${\\rm mean}(\\mu_B)$')\n",
    "\n",
    "ax.set_xlim(30, -40)\n",
    "ax.set_ylim(-30, 30)\n",
    "ax.set_aspect('equal')\n",
    "\n",
    "ax.set_xlabel(r'$L_{\\rm MS}$ [deg]')\n",
    "ax.set_ylabel(r'$B_{\\rm MS}$ [deg]')\n",
    "\n",
    "fig.tight_layout()\n",
    "\n",
    "fig.set_facecolor('w')"
   ]
  },
  {
   "cell_type": "code",
   "execution_count": null,
   "metadata": {},
   "outputs": [],
   "source": [
    "vv = vphi\n",
    "\n",
    "stat = binned_statistic_2d(mag_c.L.wrap_at(180*u.deg).degree[all_mask & pm_mask],\n",
    "                           mag_c.B.degree[all_mask & pm_mask],\n",
    "                           vv.value,\n",
    "                           bins=(np.arange(L_lim[0].value, L_lim[1].value+0.1, 1),\n",
    "                                 np.arange(B_lim[0].value, B_lim[1].value+0.1, 1)),\n",
    "                           statistic=np.nanmean)\n",
    "\n",
    "fig, ax = plt.subplots(1, 1, figsize=(15, 7))\n",
    "\n",
    "H = stat.statistic.T\n",
    "H = np.ma.array(H, mask=np.isnan(H)) \n",
    "\n",
    "# H = convolve(H, gauss)\n",
    "cc = ax.pcolormesh(stat.x_edge, stat.y_edge, H,\n",
    "                   vmin=-20, vmax=80, \n",
    "                   cmap=cmap)\n",
    "cb = fig.colorbar(cc)\n",
    "cb.set_label(r'${\\rm mean}(\\mu_B)$')\n",
    "\n",
    "ax.set_xlim(30, -40)\n",
    "ax.set_ylim(-30, 30)\n",
    "ax.set_aspect('equal')\n",
    "\n",
    "ax.set_xlabel(r'$L_{\\rm MS}$ [deg]')\n",
    "ax.set_ylabel(r'$B_{\\rm MS}$ [deg]')\n",
    "\n",
    "fig.tight_layout()\n",
    "\n",
    "fig.set_facecolor('w')"
   ]
  },
  {
   "cell_type": "code",
   "execution_count": null,
   "metadata": {},
   "outputs": [],
   "source": [
    "ddx = (med_LMC_pmL * 50*u.Myr).to(u.deg).value\n",
    "ddy = (med_LMC_pmB * 50*u.Myr).to(u.deg).value"
   ]
  },
  {
   "cell_type": "code",
   "execution_count": null,
   "metadata": {},
   "outputs": [],
   "source": [
    "plt.arrow(med_LMC_L.degree, med_LMC_B.degree,\n",
    "          ddx, ddy, linewidth=2, color='r')\n",
    "plt.xlim(-10, 10)\n",
    "plt.ylim(-10, 10)"
   ]
  },
  {
   "cell_type": "code",
   "execution_count": null,
   "metadata": {},
   "outputs": [],
   "source": []
  }
 ],
 "metadata": {
  "kernelspec": {
   "display_name": "Python [default]",
   "language": "python",
   "name": "python3"
  },
  "language_info": {
   "codemirror_mode": {
    "name": "ipython",
    "version": 3
   },
   "file_extension": ".py",
   "mimetype": "text/x-python",
   "name": "python",
   "nbconvert_exporter": "python",
   "pygments_lexer": "ipython3",
   "version": "3.6.1"
  }
 },
 "nbformat": 4,
 "nbformat_minor": 2
}