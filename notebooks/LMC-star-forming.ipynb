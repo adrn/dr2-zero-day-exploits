{
 "cells": [
  {
   "cell_type": "code",
   "execution_count": null,
   "metadata": {},
   "outputs": [],
   "source": [
    "import astropy.coordinates as coord\n",
    "from astropy.io import fits\n",
    "from astropy.table import Table, vstack\n",
    "import astropy.units as u\n",
    "import numpy as np\n",
    "import matplotlib as mpl\n",
    "import matplotlib.pyplot as plt\n",
    "%matplotlib inline\n",
    "\n",
    "from pyia import GaiaData\n",
    "import gala.coordinates as gc\n",
    "from scipy.ndimage import gaussian_filter\n",
    "from scipy.stats import binned_statistic_2d\n",
    "from gala.mpl_style import hesperia, laguna, center_emph, center_deemph\n",
    "from tqdm import tqdm\n",
    "import dustmaps\n",
    "from dustmaps.sfd import SFDQuery"
   ]
  },
  {
   "cell_type": "code",
   "execution_count": null,
   "metadata": {},
   "outputs": [],
   "source": [
    "# import dustmaps.sfd\n",
    "# dustmaps.sfd.fetch()"
   ]
  },
  {
   "cell_type": "code",
   "execution_count": null,
   "metadata": {},
   "outputs": [],
   "source": [
    "L_lim = [-140, 120] * u.deg\n",
    "B_lim = [-60, 60] * u.deg"
   ]
  },
  {
   "cell_type": "code",
   "execution_count": null,
   "metadata": {},
   "outputs": [],
   "source": [
    "import scipy.stats\n",
    "\n",
    "def get_ext(G, bp, rp, ebv, maxnit=10):\n",
    "    \"\"\" Compute the Gaia extinctions assuming relations from Babusieux\n",
    "    Arguments: G, bp, rp, E(B-V)\n",
    "    maxnit -- number of iterations\n",
    "    Returns extinction in G,bp, rp\n",
    "    Author: Sergey Koposov skoposov@cmu.edu\n",
    "    \"\"\"\n",
    "    c1, c2, c3, c4, c5, c6, c7 = [0.9761, -0.1704,\n",
    "                                  0.0086, 0.0011, -0.0438, 0.0013, 0.0099]\n",
    "    d1, d2, d3, d4, d5, d6, d7 = [\n",
    "        1.1517, -0.0871, -0.0333, 0.0173, -0.0230, 0.0006, 0.0043]\n",
    "    e1, e2, e3, e4, e5, e6, e7 = [\n",
    "        0.6104, -0.0170, -0.0026, -0.0017, -0.0078, 0.00005, 0.0006]\n",
    "    A0 = 3.1*ebv\n",
    "    P1 = np.poly1d([c1, c2, c3, c4][::-1])\n",
    "\n",
    "    def F1(bprp): return np.poly1d(\n",
    "        [c1, c2, c3, c4][::-1])(bprp)+c5*A0+c6*A0**2+c7*bprp*A0\n",
    "\n",
    "    def F2(bprp): return np.poly1d(\n",
    "        [d1, d2, d3, d4][::-1])(bprp)+d5*A0+d6*A0**2+d7*bprp*A0\n",
    "\n",
    "    def F3(bprp): return np.poly1d(\n",
    "        [e1, e2, e3, e4][::-1])(bprp)+e5*A0+e6*A0**2+e7*bprp*A0\n",
    "    xind = np.isfinite(bp+rp+G)\n",
    "    curbp = bp-rp\n",
    "    for i in range(maxnit):\n",
    "        AG = F1(curbp)*A0\n",
    "        Abp = F2(curbp)*A0\n",
    "        Arp = F3(curbp)*A0\n",
    "        curbp1 = bp-rp-Abp+Arp\n",
    "        delta = np.abs(curbp1-curbp)[xind]\n",
    "        print(scipy.stats.scoreatpercentile(delta, 99))\n",
    "        curbp = curbp1\n",
    "    AG = F1(curbp)*A0\n",
    "    Abp = F2(curbp)*A0\n",
    "    Arp = F3(curbp)*A0\n",
    "    return AG, Abp, Arp"
   ]
  },
  {
   "cell_type": "code",
   "execution_count": null,
   "metadata": {},
   "outputs": [],
   "source": [
    "def reflex(c):\n",
    "    c = coord.SkyCoord(c)\n",
    "    # Correct for reflex motion\n",
    "    v_sun = coord.Galactocentric.galcen_v_sun\n",
    "    observed = c.transform_to(coord.Galactic)\n",
    "    rep = observed.cartesian.without_differentials()\n",
    "    rep = rep.with_differentials(observed.cartesian.differentials['s'] + v_sun)\n",
    "    return coord.Galactic(rep).transform_to(c.frame)"
   ]
  },
  {
   "cell_type": "code",
   "execution_count": null,
   "metadata": {},
   "outputs": [],
   "source": [
    "# M_G = 2*u.mag\n",
    "M_G = -1*u.mag\n",
    "coord.Distance(30*u.kpc).distmod + M_G"
   ]
  },
  {
   "cell_type": "markdown",
   "metadata": {},
   "source": [
    "### SFD map of region"
   ]
  },
  {
   "cell_type": "code",
   "execution_count": null,
   "metadata": {},
   "outputs": [],
   "source": [
    "LL = np.arange(L_lim[0].value, L_lim[1].value+0.1, 0.1)\n",
    "BB = np.arange(B_lim[0].value, B_lim[1].value+0.1, 0.1)\n",
    "LL, BB = np.meshgrid(LL, BB)\n",
    "coords = coord.SkyCoord(LL*u.deg, BB*u.deg,\n",
    "                        distance=1.*u.kpc, frame=gc.MagellanicStream).transform_to(coord.Galactic)"
   ]
  },
  {
   "cell_type": "code",
   "execution_count": null,
   "metadata": {},
   "outputs": [],
   "source": [
    "sfd = SFDQuery()\n",
    "EBV_grid_sfd = sfd(coords)"
   ]
  },
  {
   "cell_type": "code",
   "execution_count": null,
   "metadata": {},
   "outputs": [],
   "source": [
    "fig, ax = plt.subplots(1, 1, figsize=(15, 7))\n",
    "\n",
    "c = ax.pcolormesh(LL, BB, \n",
    "   EBV_grid_sfd,\n",
    "   cmap='binary',\n",
    "   norm=mpl.colors.LogNorm(vmin=1E-2, vmax=1e0)\n",
    ")\n",
    "\n",
    "ax.set_xlim(120, -140)\n",
    "ax.set_ylim(-60, 60)\n",
    "\n",
    "ax.set_xlabel(r'$L_{\\rm MS}$ [deg]')\n",
    "ax.set_ylabel(r'$B_{\\rm MS}$ [deg]')\n",
    "fig.tight_layout()\n",
    "\n",
    "fig.savefig('sfd_mag.png', dpi=250)"
   ]
  },
  {
   "cell_type": "markdown",
   "metadata": {},
   "source": [
    "BP-RP and G mag cuts to get ~A/B stars @ 30 kpc"
   ]
  },
  {
   "cell_type": "code",
   "execution_count": null,
   "metadata": {},
   "outputs": [],
   "source": [
    "g = GaiaData('/Users/adrian/data/GaiaDR2/blue_distant.fits')\n",
    "g = g[g.parallax < 0.5*u.mas]\n",
    "len(g)"
   ]
  },
  {
   "cell_type": "code",
   "execution_count": null,
   "metadata": {},
   "outputs": [],
   "source": [
    "c = coord.SkyCoord(ra=g.ra, dec=g.dec,\n",
    "                   distance=np.full(len(g), 35)*u.kpc,\n",
    "                   pm_ra_cosdec=g.pmra,\n",
    "                   pm_dec=g.pmdec,\n",
    "                   radial_velocity=np.zeros(len(g))*u.km/u.s)"
   ]
  },
  {
   "cell_type": "code",
   "execution_count": null,
   "metadata": {},
   "outputs": [],
   "source": [
    "EBV = sfd(c)"
   ]
  },
  {
   "cell_type": "code",
   "execution_count": null,
   "metadata": {},
   "outputs": [],
   "source": [
    "G = g.phot_g_mean_mag.value\n",
    "bp = g.phot_bp_mean_mag.value\n",
    "rp = g.phot_rp_mean_mag.value\n",
    "A_G, A_BP, A_RP = get_ext(G, bp, rp, EBV)"
   ]
  },
  {
   "cell_type": "code",
   "execution_count": null,
   "metadata": {},
   "outputs": [],
   "source": [
    "ext_mask = np.isfinite(A_G) & np.isfinite(A_BP) & np.isfinite(A_RP) & (A_G < 4)\n",
    "ext_mask.sum()"
   ]
  },
  {
   "cell_type": "code",
   "execution_count": null,
   "metadata": {},
   "outputs": [],
   "source": [
    "mag_c = c.transform_to(gc.MagellanicStream)\n",
    "mag_c = reflex(mag_c)"
   ]
  },
  {
   "cell_type": "code",
   "execution_count": null,
   "metadata": {},
   "outputs": [],
   "source": [
    "L = mag_c.L.wrap_at(180*u.deg)\n",
    "B = mag_c.B\n",
    "mag_mask = ((L > L_lim[0]) & (L < L_lim[1]) &\n",
    "            (B > B_lim[0]) & (B < B_lim[1]) & \n",
    "            (np.sqrt(L**2 + (B-4*u.deg)**2) > 10*u.deg) & # Remove LMC\n",
    "            (np.sqrt((L+10*u.deg)**2 + (B+6*u.deg)**2) > 4*u.deg) & # Remove bridge\n",
    "            (np.sqrt((L+15*u.deg)**2 + (B+11*u.deg)**2) > 5*u.deg) # Remove SMC\n",
    "           )"
   ]
  },
  {
   "cell_type": "code",
   "execution_count": null,
   "metadata": {},
   "outputs": [],
   "source": [
    "fig, ax = plt.subplots(1, 1, figsize=(15, 5))\n",
    "\n",
    "ax.plot(mag_c.L.wrap_at(180*u.deg).degree[ext_mask & mag_mask], \n",
    "        mag_c.B.degree[ext_mask & mag_mask], \n",
    "        linestyle='none', marker='.', alpha=0.1)\n",
    "\n",
    "ax.set_xlim(120, -140)\n",
    "ax.set_ylim(-60, 60)"
   ]
  },
  {
   "cell_type": "code",
   "execution_count": null,
   "metadata": {},
   "outputs": [],
   "source": [
    "bprp0 = (g.phot_bp_mean_mag - g.phot_rp_mean_mag) - (A_BP - A_RP)*u.mag\n",
    "G0 = g.phot_g_mean_mag - A_G*u.mag"
   ]
  },
  {
   "cell_type": "code",
   "execution_count": null,
   "metadata": {},
   "outputs": [],
   "source": [
    "fig, ax = plt.subplots(1, 1, figsize=(6, 6))\n",
    "\n",
    "ax.plot(bprp0, G0, marker=',', linestyle='none', alpha=0.2)\n",
    "\n",
    "ax.set_xlim(-2, 0.5)\n",
    "ax.set_ylim(20, 12)"
   ]
  },
  {
   "cell_type": "code",
   "execution_count": null,
   "metadata": {},
   "outputs": [],
   "source": [
    "# more_mask = (G0 > 16.*u.mag) & (bprp0 > -0.5*u.mag)\n",
    "# more_mask = (bprp0 < -0*u.mag) & (bprp0 > -0.5*u.mag)\n",
    "more_mask = (bprp0 < 0.3*u.mag) & (bprp0 > -0.5*u.mag) & (G0 > (2.5/0.5*bprp0 + 17.5*u.mag))\n",
    "\n",
    "fig, ax = plt.subplots(1, 1, figsize=(6, 6))\n",
    "\n",
    "ax.plot(bprp0, G0, marker=',', linestyle='none', alpha=0.2)\n",
    "ax.plot(bprp0[more_mask], G0[more_mask], marker=',', linestyle='none', alpha=1)\n",
    "\n",
    "ax.set_xlim(-2, 0.5)\n",
    "ax.set_ylim(12, 20)"
   ]
  },
  {
   "cell_type": "code",
   "execution_count": null,
   "metadata": {},
   "outputs": [],
   "source": [
    "all_mask = mag_mask & ext_mask & more_mask"
   ]
  },
  {
   "cell_type": "code",
   "execution_count": null,
   "metadata": {},
   "outputs": [],
   "source": [
    "# pm_mask = (mag_c.pm_B > -0.1*u.mas/u.yr) & (mag_c.pm_B < 3*u.mas/u.yr)\n",
    "# pm_mask = np.abs(mag_c.pm_B) < 0.6*u.mas/u.yr\n",
    "# pm_mask = np.ones(len(mag_c)).astype(bool)\n",
    "# pm_mask = np.sqrt((mag_c.pm_L_cosB - -2.3*u.mas/u.yr)**2 + (mag_c.pm_B - -1.5*u.mas/u.yr)**2) < 0.5*u.mas/u.yr\n",
    "\n",
    "# left_mask = np.abs(sag_c.Beta) < 10*u.deg\n",
    "left_mask = (((mag_c.B > 30*u.deg) & (mag_c.B < 60*u.deg) &\n",
    "              (mag_c.L.wrap_at(180*u.deg) > -110*u.deg) & (mag_c.L.wrap_at(180*u.deg) < -20*u.deg)) |\n",
    "             ((mag_c.B > -60*u.deg) & (mag_c.B < -20*u.deg) &\n",
    "              (mag_c.L.wrap_at(180*u.deg) > 50*u.deg) & (mag_c.L.wrap_at(180*u.deg) < 100*u.deg)))"
   ]
  },
  {
   "cell_type": "code",
   "execution_count": null,
   "metadata": {},
   "outputs": [],
   "source": [
    "fig, axes = plt.subplots(1, 3, figsize=(15, 5), sharex=True, sharey=True)\n",
    "\n",
    "axes[0].plot(mag_c.pm_L_cosB[all_mask], mag_c.pm_B[all_mask], \n",
    "             linestyle='none', marker='.', alpha=0.2)\n",
    "\n",
    "axes[1].plot(mag_c.pm_L_cosB[left_mask], mag_c.pm_B[left_mask], \n",
    "             linestyle='none', marker='.', alpha=0.2)\n",
    "\n",
    "# axes[2].plot(mag_c.pm_L_cosB[all_mask & pm_mask], mag_c.pm_B[all_mask & pm_mask], \n",
    "#              linestyle='none', marker=',', alpha=0.75)\n",
    "\n",
    "# ax.set_xlim(90, -120)\n",
    "# ax.set_ylim(-40, 20)"
   ]
  },
  {
   "cell_type": "code",
   "execution_count": null,
   "metadata": {},
   "outputs": [],
   "source": [
    "pm_bins = np.arange(-5, 5+0.1, 0.1)\n",
    "\n",
    "bg_pm, pm_x, pm_y = np.histogram2d(mag_c.pm_L_cosB[left_mask].value, \n",
    "                                   mag_c.pm_B[left_mask].value,\n",
    "                                   bins=(pm_bins, pm_bins))\n",
    "\n",
    "fg_pm, pm_x, pm_y = np.histogram2d(mag_c.pm_L_cosB[all_mask].value, \n",
    "                                   mag_c.pm_B[all_mask].value,\n",
    "                                   bins=(pm_bins, pm_bins))\n",
    "\n",
    "fig, axes = plt.subplots(1, 3, figsize=(15, 5), sharex=True, sharey=True)\n",
    "\n",
    "axes[0].pcolormesh(pm_x, pm_y, fg_pm.T)\n",
    "axes[1].pcolormesh(pm_x, pm_y, bg_pm.T)\n",
    "axes[2].pcolormesh(pm_x, pm_y, fg_pm.T/31200. - bg_pm.T/4700.)\n",
    "\n",
    "r = mpl.patches.Circle((0.7, 0.1), radius=1, facecolor='none', edgecolor='k')\n",
    "axes[2].add_patch(r)\n",
    "\n",
    "fig.tight_layout()"
   ]
  },
  {
   "cell_type": "code",
   "execution_count": null,
   "metadata": {},
   "outputs": [],
   "source": [
    "pm_mask = np.sqrt((mag_c.pm_L_cosB - 0.7*u.mas/u.yr)**2 + \n",
    "                  (mag_c.pm_B - 0.1*u.mas/u.yr)**2) < 1*u.mas/u.yr"
   ]
  },
  {
   "cell_type": "code",
   "execution_count": null,
   "metadata": {},
   "outputs": [],
   "source": [
    "ol_blob = coord.SkyCoord(ra=178.94197852110662*u.deg,\n",
    "                         dec=-29.46957451372061*u.deg)\n",
    "ol_blob = ol_blob.transform_to(gc.MagellanicStream)"
   ]
  },
  {
   "cell_type": "code",
   "execution_count": null,
   "metadata": {},
   "outputs": [],
   "source": [
    "fig, ax = plt.subplots(1, 1, figsize=(15, 7))\n",
    "\n",
    "H, xe, ye = np.histogram2d(mag_c.L.wrap_at(180*u.deg).degree[all_mask & pm_mask], \n",
    "                           mag_c.B.degree[all_mask & pm_mask],\n",
    "                           bins=(np.arange(-140, 120+1, 1),\n",
    "                                 np.arange(-60, 60+1, 1)))\n",
    "H = gaussian_filter(H, sigma=0.7)\n",
    "ax.pcolormesh(xe, ye, H.T, \n",
    "              norm=mpl.colors.LogNorm(vmin=0.3, vmax=6),\n",
    "              cmap='Greys')\n",
    "\n",
    "gas = [[(35, 5), (30, 5)],\n",
    "       [(35, -17), (30, 7)],\n",
    "       [(10, -32), (20, 17)],\n",
    "       [(-35, -25), (15, 35)],\n",
    "       [(-110, -10), (80, 20)]]\n",
    "# for row in gas:\n",
    "#     r = mpl.patches.Rectangle(row[0], row[1][0], row[1][1],\n",
    "#                               facecolor='none', edgecolor='tab:red')\n",
    "#     ax.add_patch(r)\n",
    "\n",
    "r = mpl.patches.Circle((ol_blob.L.degree, ol_blob.B.degree), radius=2., \n",
    "                       facecolor='none', edgecolor='tab:green')\n",
    "ax.add_patch(r)\n",
    "    \n",
    "ax.set_xlim(120, -140)\n",
    "ax.set_ylim(-60, 60)\n",
    "\n",
    "ax.set_xlabel(r'$L_{\\rm MS}$ [deg]')\n",
    "ax.set_ylabel(r'$B_{\\rm MS}$ [deg]')\n",
    "\n",
    "fig.tight_layout()\n",
    "\n",
    "fig.savefig('mag_blue.png', dpi=250)"
   ]
  },
  {
   "cell_type": "code",
   "execution_count": null,
   "metadata": {},
   "outputs": [],
   "source": []
  },
  {
   "cell_type": "code",
   "execution_count": null,
   "metadata": {},
   "outputs": [],
   "source": [
    "fig, ax = plt.subplots(1, 1, figsize=(15, 7))\n",
    "\n",
    "ax.plot(mag_c.L.wrap_at(180*u.deg).degree[all_mask & pm_mask], \n",
    "        mag_c.B.degree[all_mask & pm_mask],\n",
    "        marker='.', linestyle='none', alpha=0.5)\n",
    "\n",
    "gas = [[(35, 5), (30, 5)],\n",
    "       [(35, -17), (30, 7)],\n",
    "       [(10, -32), (20, 17)],\n",
    "       [(-35, -25), (15, 35)],\n",
    "       [(-110, -10), (80, 20)]]\n",
    "for row in gas:\n",
    "    r = mpl.patches.Rectangle(row[0], row[1][0], row[1][1],\n",
    "                              facecolor='none', edgecolor='tab:red')\n",
    "    ax.add_patch(r)\n",
    "\n",
    "r = mpl.patches.Circle((ol_blob.L.degree, ol_blob.B.degree), radius=2., \n",
    "                       facecolor='none', edgecolor='tab:green')\n",
    "ax.add_patch(r)\n",
    "    \n",
    "ax.set_xlim(120, -140)\n",
    "ax.set_ylim(-60, 60)\n",
    "\n",
    "ax.set_xlabel(r'$L_{\\rm MS}$ [deg]')\n",
    "ax.set_ylabel(r'$B_{\\rm MS}$ [deg]')\n",
    "\n",
    "# fig.savefig('mag_blue.png', dpi=250)"
   ]
  },
  {
   "cell_type": "code",
   "execution_count": null,
   "metadata": {},
   "outputs": [],
   "source": [
    "fig, ax = plt.subplots(1, 1, figsize=(15, 7))\n",
    "\n",
    "ax.plot(c.ra.degree[all_mask & pm_mask], \n",
    "        c.dec.degree[all_mask & pm_mask],\n",
    "        marker='.', linestyle='none', alpha=0.5)\n",
    "    \n",
    "ax.set_xlim(360, 0)\n",
    "# ax.set_ylim(-60, 60)\n",
    "\n",
    "# ax.set_xlabel(r'$L_{\\rm MS}$ [deg]')\n",
    "# ax.set_ylabel(r'$B_{\\rm MS}$ [deg]')"
   ]
  },
  {
   "cell_type": "code",
   "execution_count": null,
   "metadata": {},
   "outputs": [],
   "source": []
  },
  {
   "cell_type": "code",
   "execution_count": null,
   "metadata": {},
   "outputs": [],
   "source": [
    "stat_muL = binned_statistic_2d(mag_c.L.wrap_at(180*u.deg).degree[all_mask & pm_mask],\n",
    "                               mag_c.B.degree[all_mask & pm_mask],\n",
    "                               mag_c.pm_L_cosB[all_mask & pm_mask],\n",
    "                               bins=(np.arange(-140, 120+1, 2),\n",
    "                                     np.arange(-60, 60+1, 2)),\n",
    "                               statistic=np.nanmean)\n",
    "\n",
    "stat_muB = binned_statistic_2d(mag_c.L.wrap_at(180*u.deg).degree[all_mask & pm_mask],\n",
    "                               mag_c.B.degree[all_mask & pm_mask],\n",
    "                               mag_c.pm_B[all_mask & pm_mask],\n",
    "                               bins=(np.arange(-140, 120+1, 2),\n",
    "                                     np.arange(-60, 60+1, 2)),\n",
    "                               statistic=np.nanmean)"
   ]
  },
  {
   "cell_type": "code",
   "execution_count": null,
   "metadata": {},
   "outputs": [],
   "source": [
    "fig, ax = plt.subplots(1, 1, figsize=(15, 7))\n",
    "\n",
    "# H = gaussian_filter(H, sigma=0.75)\n",
    "cc = ax.pcolormesh(stat_muL.x_edge, stat_muL.y_edge, stat_muL.statistic.T,\n",
    "                   vmin=-2, vmax=2, cmap=center_emph)\n",
    "cb = fig.colorbar(cc)\n",
    "cb.set_label(r'${\\rm mean}(\\mu_L \\cos B)$')\n",
    "\n",
    "ax.set_xlim(120, -140)\n",
    "ax.set_ylim(-60, 60)\n",
    "\n",
    "ax.set_xlabel(r'$L_{\\rm MS}$ [deg]')\n",
    "ax.set_ylabel(r'$B_{\\rm MS}$ [deg]')\n",
    "\n",
    "fig.tight_layout()"
   ]
  },
  {
   "cell_type": "code",
   "execution_count": null,
   "metadata": {},
   "outputs": [],
   "source": [
    "fig, ax = plt.subplots(1, 1, figsize=(15, 7))\n",
    "\n",
    "# H = gaussian_filter(H, sigma=0.75)\n",
    "cc = ax.pcolormesh(stat_muB.x_edge, stat_muB.y_edge, stat_muB.statistic.T,\n",
    "                   vmin=-1, vmax=1, cmap=center_emph)\n",
    "cb = fig.colorbar(cc)\n",
    "cb.set_label(r'${\\rm mean}(\\mu_B)$')\n",
    "\n",
    "ax.set_xlim(120, -140)\n",
    "ax.set_ylim(-60, 60)\n",
    "\n",
    "ax.set_xlabel(r'$L_{\\rm MS}$ [deg]')\n",
    "ax.set_ylabel(r'$B_{\\rm MS}$ [deg]')\n",
    "\n",
    "fig.tight_layout()\n",
    "# fig.savefig('mag_pm.png', dpi=250)"
   ]
  },
  {
   "cell_type": "code",
   "execution_count": null,
   "metadata": {},
   "outputs": [],
   "source": []
  },
  {
   "cell_type": "code",
   "execution_count": null,
   "metadata": {},
   "outputs": [],
   "source": []
  },
  {
   "cell_type": "code",
   "execution_count": null,
   "metadata": {},
   "outputs": [],
   "source": []
  }
 ],
 "metadata": {
  "kernelspec": {
   "display_name": "Python [default]",
   "language": "python",
   "name": "python3"
  },
  "language_info": {
   "codemirror_mode": {
    "name": "ipython",
    "version": 3
   },
   "file_extension": ".py",
   "mimetype": "text/x-python",
   "name": "python",
   "nbconvert_exporter": "python",
   "pygments_lexer": "ipython3",
   "version": "3.6.1"
  }
 },
 "nbformat": 4,
 "nbformat_minor": 2
}